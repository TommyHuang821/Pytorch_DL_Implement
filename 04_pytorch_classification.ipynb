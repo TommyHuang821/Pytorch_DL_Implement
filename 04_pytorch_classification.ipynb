{
 "cells": [
  {
   "cell_type": "markdown",
   "id": "mineral-belief",
   "metadata": {},
   "source": [
    "# 從pytorch的dataloader進行模型訓練"
   ]
  },
  {
   "cell_type": "markdown",
   "id": "concerned-lloyd",
   "metadata": {},
   "source": [
    "步驟0. 是否使用CUDA <br>\n",
    "步驟1. data loader處理 <br> \n",
    "步驟2. 模型宣告 <br> \n",
    "步驟3. loss function宣告 <br>\n",
    "步驟4. optimator宣告 <br>\n",
    "步驟5. 模型開始訓練 <br>"
   ]
  },
  {
   "cell_type": "markdown",
   "id": "beginning-housing",
   "metadata": {},
   "source": [
    "----------------------\n",
    "**<font color = black size=3> 步驟0.是否使用CUDA</font>**<br>\n",
    "<br>宣告一個device決定CPU或是GPU運算</br>"
   ]
  },
  {
   "cell_type": "code",
   "execution_count": 1,
   "id": "ancient-desperate",
   "metadata": {},
   "outputs": [
    {
     "name": "stdout",
     "output_type": "stream",
     "text": [
      "cuda\n"
     ]
    }
   ],
   "source": [
    "import torch\n",
    "use_cuda=1\n",
    "device = torch.device(\"cuda\" if use_cuda else \"cpu\")\n",
    "print(device)"
   ]
  },
  {
   "cell_type": "markdown",
   "id": "threatened-capitol",
   "metadata": {},
   "source": [
    "上面是我們自己說要下到cuda裡面，但實際上沒有cuda就慘了"
   ]
  },
  {
   "cell_type": "code",
   "execution_count": 2,
   "id": "polar-world",
   "metadata": {},
   "outputs": [
    {
     "name": "stdout",
     "output_type": "stream",
     "text": [
      "cuda\n"
     ]
    },
    {
     "data": {
      "text/plain": [
       "torch.device"
      ]
     },
     "execution_count": 2,
     "metadata": {},
     "output_type": "execute_result"
    }
   ],
   "source": [
    "device = torch.device(\"cuda\" if (torch.cuda.is_available() & use_cuda) else \"cpu\")\n",
    "print(device)\n",
    "type(device)"
   ]
  },
  {
   "cell_type": "markdown",
   "id": "duplicate-stuart",
   "metadata": {},
   "source": [
    "----------------------\n",
    "**<font color = blue size=4> 步驟1. data loader處理</font>**<br>\n",
    "<br>這個前面內容提過了，我就帶過<br>"
   ]
  },
  {
   "cell_type": "code",
   "execution_count": 3,
   "id": "empty-element",
   "metadata": {},
   "outputs": [],
   "source": [
    "from torchvision import datasets, transforms\n",
    "transform = transforms.ToTensor()\n",
    "dataset_MNIST_tensor = datasets.MNIST('./dataset', train=True, download=False, transform=transform)\n",
    "mnistdata_loader = torch.utils.data.DataLoader(dataset_MNIST_tensor, batch_size=4)"
   ]
  },
  {
   "cell_type": "markdown",
   "id": "electoral-windsor",
   "metadata": {},
   "source": [
    "----------------------\n",
    "**<font color = blue size=4> 步驟2. 模型宣告</font>**<br>\n",
    "\n",
    "<br>這邊在宣告你要用什麼神經網路，自己兜得或是開源模型都可以<br>\n",
    "<br>**這邊我宣告兩種簡單的模型**<br>\n",
    "1. MLP，接上幾層funnly connection的神經網路\n",
    "2. ConvNet，用conv+BN+ReLU，串幾層CNN的神經網路"
   ]
  },
  {
   "cell_type": "markdown",
   "id": "accessible-investigation",
   "metadata": {},
   "source": [
    "**1. MLP，接上幾層funnly connection的神經網路** <br>\n",
    "<br>這邊我們用一個三層的MLP </br>\n",
    "<br>因為全連接層圖片須拉成1D array，所以28x28的手寫圖片需要轉換成一個28x28=754的一維陣列</br>\n",
    "<br>所以神經網路的結構為</br>\n",
    "<br> Input layer (node數為754) → Hidden layer (node數設定為512) → Output layer (node數為10)</br>\n"
   ]
  },
  {
   "cell_type": "code",
   "execution_count": 4,
   "id": "pending-involvement",
   "metadata": {},
   "outputs": [
    {
     "name": "stdout",
     "output_type": "stream",
     "text": [
      "MLP(\n",
      "  (fc1): Linear(in_features=784, out_features=512, bias=True)\n",
      "  (fc2): Linear(in_features=512, out_features=10, bias=True)\n",
      "  (droput): Dropout(p=0.2, inplace=False)\n",
      ")\n"
     ]
    }
   ],
   "source": [
    "## 1. MLP\n",
    "import torch.nn as nn\n",
    "import torch.nn.functional as F\n",
    "# define NN architecture\n",
    "class MLP(nn.Module):\n",
    "    def __init__(self):\n",
    "        super(MLP,self).__init__()\n",
    "        # linear layer (784 -> hidden_1)\n",
    "        self.fc1 = nn.Linear(28*28, 512)\n",
    "        # linear layer (n_hidden -> 10)\n",
    "        self.fc2 = nn.Linear(512,10)\n",
    "        # dropout prevents overfitting of data\n",
    "        self.droput = nn.Dropout(0.2)\n",
    "        \n",
    "    def forward(self,x):\n",
    "        # flatten image input\n",
    "        x = x.view(-1,28*28)\n",
    "        # add hidden layer, with relu activation function\n",
    "        x = F.relu(self.fc1(x))\n",
    "        # add dropout layer\n",
    "        x = self.droput(x)\n",
    "         # add hidden layer, with relu activation function\n",
    "        x = self.fc2(x)\n",
    "        return x\n",
    "# initialize the MLP\n",
    "model_mlp = MLP()\n",
    "print(model_mlp)"
   ]
  },
  {
   "cell_type": "markdown",
   "id": "likely-monthly",
   "metadata": {},
   "source": [
    "**2. ConvNet，用conv+BN+ReLU，串幾層CNN的神經網路** <br>\n",
    "\n",
    "<br>這邊我們用一個3層的CNN </br>\n",
    "<br>每個conv. layer都會用</br>\n",
    "<br>所以CNN神經網路的結構為conv+BN+ReLU2的結構</br>\n",
    "<br> Input layer (channel數為1) → conv layer 1 (channel數設定為32)→ conv layer2 (channel數設定為32) → GAP → Output layer (channel數為10)</br>\n",
    "> GAP: global average pooling"
   ]
  },
  {
   "cell_type": "code",
   "execution_count": 5,
   "id": "controlling-cigarette",
   "metadata": {},
   "outputs": [
    {
     "name": "stdout",
     "output_type": "stream",
     "text": [
      "ConvNet(\n",
      "  (conv): Sequential(\n",
      "    (0): ConvM(\n",
      "      (0): Conv2d(1, 32, kernel_size=(3, 3), stride=(1, 1), padding=(1, 1), bias=False)\n",
      "      (1): BatchNorm2d(32, eps=1e-05, momentum=0.1, affine=True, track_running_stats=True)\n",
      "      (2): ReLU(inplace=True)\n",
      "    )\n",
      "    (1): ConvM(\n",
      "      (0): Conv2d(32, 64, kernel_size=(3, 3), stride=(1, 1), padding=(1, 1), bias=False)\n",
      "      (1): BatchNorm2d(64, eps=1e-05, momentum=0.1, affine=True, track_running_stats=True)\n",
      "      (2): ReLU(inplace=True)\n",
      "    )\n",
      "    (2): ConvM(\n",
      "      (0): Conv2d(64, 128, kernel_size=(3, 3), stride=(1, 1), padding=(1, 1), bias=False)\n",
      "      (1): BatchNorm2d(128, eps=1e-05, momentum=0.1, affine=True, track_running_stats=True)\n",
      "      (2): ReLU(inplace=True)\n",
      "    )\n",
      "    (3): ConvM(\n",
      "      (0): Conv2d(128, 64, kernel_size=(3, 3), stride=(1, 1), padding=(1, 1), bias=False)\n",
      "      (1): BatchNorm2d(64, eps=1e-05, momentum=0.1, affine=True, track_running_stats=True)\n",
      "      (2): ReLU(inplace=True)\n",
      "    )\n",
      "    (4): ConvM(\n",
      "      (0): Conv2d(64, 32, kernel_size=(3, 3), stride=(1, 1), padding=(1, 1), bias=False)\n",
      "      (1): BatchNorm2d(32, eps=1e-05, momentum=0.1, affine=True, track_running_stats=True)\n",
      "      (2): ReLU(inplace=True)\n",
      "    )\n",
      "  )\n",
      "  (fc): Linear(in_features=32, out_features=10, bias=True)\n",
      ")\n"
     ]
    }
   ],
   "source": [
    "class ConvM(nn.Sequential):\n",
    "    def __init__(self, in_planes, out_planes, kernel_size=3, stride=1, groups=1):\n",
    "        padding = (kernel_size - 1) // 2\n",
    "        norm_layer = nn.BatchNorm2d\n",
    "        super(ConvM, self).__init__(\n",
    "            nn.Conv2d(in_planes, out_planes, kernel_size, stride, padding, groups=groups, bias=False),\n",
    "            norm_layer(out_planes),\n",
    "            nn.ReLU(inplace=True),\n",
    "        )\n",
    "class ConvNet(nn.Module):\n",
    "    def __init__(self):\n",
    "        super(ConvNet, self).__init__()\n",
    "        \n",
    "        self.conv = nn.Sequential(\n",
    "            ConvM(1, 32, 3, 1),\n",
    "            ConvM(32, 64, 3, 1),\n",
    "            ConvM(64, 128, 3, 1),\n",
    "            ConvM(128, 64, 3, 1),\n",
    "            ConvM(64, 32, 3, 1),\n",
    "        )        \n",
    "        self.fc = nn.Linear(32, 10)\n",
    "    def forward(self, x):\n",
    "        x = self.conv(x)\n",
    "        x = nn.functional.adaptive_avg_pool2d(x, 1).reshape(x.shape[0], -1)\n",
    "        ft = x\n",
    "        output = self.fc(x)\n",
    "        return output\n",
    "\n",
    "# initialize the ConvNet\n",
    "model_cnn = ConvNet()\n",
    "print(model_cnn)"
   ]
  },
  {
   "cell_type": "markdown",
   "id": "collective-rough",
   "metadata": {},
   "source": [
    "----------------------\n",
    "**<font color = blue size=4> 步驟3.loss function宣告</font>**<br>\n",
    "<br>宣告loss函數，模型預測的結果和ground truth整合計算差異用來更新模型</br>\n",
    "<br>這邊提的是和ground truth整合計算差異所以泛屬於supervised learning</br>\n",
    "<br>reference:https://pytorch.org/docs/stable/nn.html#loss-functions\n",
    "\n",
    "<br>**這邊我們用到的是cross entropy作為loss function**\n",
    "<br>torch.nn.CrossEntropyLoss = log_softmax → nll_loss \n",
    "<br>log_softmax: torch.nn.functional.log_softmax\n",
    "<br>nll_loss: torch.nn.functional.nll_loss (negative log likelihood loss)"
   ]
  },
  {
   "cell_type": "code",
   "execution_count": 6,
   "id": "mineral-basketball",
   "metadata": {},
   "outputs": [
    {
     "name": "stdout",
     "output_type": "stream",
     "text": [
      "inputdata:tensor([[3., 2., 1.],\n",
      "        [4., 5., 6.]], dtype=torch.float64, requires_grad=True)\n",
      "target:tensor([0, 2])\n",
      "loss value by function (torch.nn.CrossEntropyLoss): 0.4076059644443804\n",
      "loss value by (log_softmax and nll_loss): 0.4076059644443804\n"
     ]
    }
   ],
   "source": [
    "loss = torch.nn.CrossEntropyLoss()\n",
    "\n",
    "import numpy as np\n",
    "x = np.array([[3.0,2.0,1.0],[4.0,5.0,6.0]])\n",
    "inputdata = torch.tensor(x, requires_grad=True)\n",
    "target = np.array([0, 2])\n",
    "target = torch.LongTensor(target)\n",
    "output1 = loss(inputdata, target)\n",
    "print('inputdata:{}'.format(inputdata))\n",
    "print('target:{}'.format(target))\n",
    "print('loss value by function (torch.nn.CrossEntropyLoss): {}'.format(output1))\n",
    "\n",
    "\n",
    "from  torch.nn.functional import log_softmax,nll_loss, softmax\n",
    "\n",
    "ls_x = log_softmax(inputdata,dim=1)\n",
    "output2 = nll_loss(ls_x, target)\n",
    "print('loss value by (log_softmax and nll_loss): {}'.format(output2))\n"
   ]
  },
  {
   "cell_type": "markdown",
   "id": "sunset-cattle",
   "metadata": {},
   "source": [
    "所以用程式算Cross entropy分別用這兩種方式計算\n",
    "<br> 1. torch.nn.CrossEntropyLoss，結果為 0.4076059644443804\n",
    "<br> 2. log_softmax → nll_loss，結果為 0.4076059644443804\n",
    "<br>結果是一樣的\n",
    "\n",
    "<br>**利用手算**:  \n",
    "<br>$ x = \\begin{bmatrix} 3 & 2 & 1 \\\\ 4 & 5 & 6 \\\\ \\end{bmatrix} $\n",
    "$, label = \\begin{bmatrix} 0 \\\\ 2 \\\\ \\end{bmatrix} $\n",
    "<br>Onehot encoder for label:\n",
    "<br>$ y(label) = \\begin{bmatrix} 1 & 0 & 0 \\\\ 0 & 0 & 1 \\\\ \\end{bmatrix} $\n",
    "\n",
    "<br> softmax operator:\n",
    "<br>$ p_i = softmax(x_i)= \\frac{exp((x_i))}{\\sum_{l=1}^L exp(x_i(l))}$\n",
    "\n",
    "<br>$ p = \\begin{bmatrix} p_1 \\\\ p_2 \\\\ \\end{bmatrix} = \\begin{bmatrix} 0.6652 & 0.2447 & 0.0900 \\\\ 0.0900 & 0.2447 & 0.6652 \\\\ \\end{bmatrix}$\n",
    "\n",
    "<br>$ log(p) = \\begin{bmatrix} -0.4076 & -1.4076 & -2.4076 \\\\ -2.4076 & -1.4076 & -0.4076 \\\\ \\end{bmatrix}$\n",
    "\n",
    "$CE = -\\sum_{i=1}^n \\sum_{c=1}^L y_{i,c} * log(p_{i,c})$\n",
    "<br>$ = -(1 \\times -0.4076 + 0 \\times -1.4076 + 0 \\times-2.4076)  + (0 \\times -2.4076 + 0 \\times -1.4076 + 1 \\times-0.4076) $\n",
    "<br>$ = -(-0.4076 + -0.4076) $\n",
    "<br>$ = 0.8152 $\n",
    "\n",
    "<font color = red  size=4>**手算結果為0.8152怎麼跟程式 0.4076不一樣**</font>\n",
    "<br><br> 我們看一下程式碼CrossEntropyLoss default參數\n",
    "<br><br>   torch.nn.CrossEntropyLoss(weight=None, size_average=None, ignore_index=-100, reduce=None, <font color = red> **reduction='mean'**</font>)\n",
    "<br><br> 程式碼用平均後的結果，所以手算的結果0.8152除上2，$ 0.8152 \\div{2} =0.4076$ 就跟程式 0.4076的一樣了\n",
    "<br><br> 這個範例是兩筆資料，假設我們有一千筆資料，每一筆資料的CE loss都是0.4076，如果我們不用平均的方式處理，CE=407.6，這樣的loss值太大，我們很難好好更新模型參數，所以採用平均數的做法有點類似正規化，避免整體loss因為樣本數過多爆掉。\n"
   ]
  },
  {
   "cell_type": "markdown",
   "id": "innocent-romance",
   "metadata": {},
   "source": [
    "--------------------\n",
    "**<font color = blue size=4> 步驟4. optimator宣告</font>**<br>\n",
    "\n",
    "<br> 這個步驟是在看我們模型更新需要改用什麼樣的演算法\n",
    "<br> 例如: SGD, Adagrad, RMSprop, Adam, LBFGS等。\n",
    "<br>reference: https://pytorch.org/docs/stable/optim.html"
   ]
  },
  {
   "cell_type": "code",
   "execution_count": 7,
   "id": "missing-detail",
   "metadata": {},
   "outputs": [],
   "source": [
    "import torch.optim as optim\n",
    "# optimizer = optim.Adadelta(model.parameters(), lr=0.01)\n",
    "# optimizer = optim.Adam(model.parameters(), lr=0.01)\n",
    "optimizer_cnn = optim.SGD(model_cnn.parameters(), lr=0.01, momentum=0.9)\n",
    "optimizer_mlp = optim.SGD(model_mlp.parameters(), lr=0.01, momentum=0.9)\n"
   ]
  },
  {
   "cell_type": "markdown",
   "id": "naughty-charter",
   "metadata": {},
   "source": [
    "--------------------\n",
    "**<font color = blue size=4> 步驟5. 模型開始訓練</font>**<br>\n"
   ]
  },
  {
   "cell_type": "code",
   "execution_count": 14,
   "id": "wrapped-sigma",
   "metadata": {},
   "outputs": [
    {
     "name": "stdout",
     "output_type": "stream",
     "text": [
      "MLP Train Epoch: 0 [0/60000 (0%)]\tLoss: 2.296181\n",
      "CNN Train Epoch: 0 [0/60000 (0%)]\tLoss: 2.326734\n",
      "MLP Train Epoch: 0 [25600/60000 (0%)]\tLoss: 1.402240\n",
      "CNN Train Epoch: 0 [25600/60000 (0%)]\tLoss: 2.063033\n",
      "MLP Train Epoch: 0 [51200/60000 (0%)]\tLoss: 0.783629\n",
      "CNN Train Epoch: 0 [51200/60000 (0%)]\tLoss: 1.811023\n",
      "MLP Test set: Average loss: 0.0012, Accuracy: 8584/10000 (86%)\n",
      "CNN Test set: Average loss: 0.0034, Accuracy: 4351/10000 (44%)\n",
      "\n",
      "MLP Train Epoch: 1 [0/60000 (0%)]\tLoss: 0.761348\n",
      "CNN Train Epoch: 1 [0/60000 (0%)]\tLoss: 1.664002\n",
      "MLP Train Epoch: 1 [25600/60000 (0%)]\tLoss: 0.596031\n",
      "CNN Train Epoch: 1 [25600/60000 (0%)]\tLoss: 1.323276\n",
      "MLP Train Epoch: 1 [51200/60000 (0%)]\tLoss: 0.551836\n",
      "CNN Train Epoch: 1 [51200/60000 (0%)]\tLoss: 1.078450\n",
      "MLP Test set: Average loss: 0.0009, Accuracy: 8814/10000 (88%)\n",
      "CNN Test set: Average loss: 0.0021, Accuracy: 7475/10000 (75%)\n",
      "\n",
      "MLP Train Epoch: 2 [0/60000 (0%)]\tLoss: 0.584613\n",
      "CNN Train Epoch: 2 [0/60000 (0%)]\tLoss: 0.983169\n",
      "MLP Train Epoch: 2 [25600/60000 (0%)]\tLoss: 0.477549\n",
      "CNN Train Epoch: 2 [25600/60000 (0%)]\tLoss: 0.720812\n",
      "MLP Train Epoch: 2 [51200/60000 (0%)]\tLoss: 0.469249\n",
      "CNN Train Epoch: 2 [51200/60000 (0%)]\tLoss: 0.554924\n",
      "MLP Test set: Average loss: 0.0008, Accuracy: 8925/10000 (89%)\n",
      "CNN Test set: Average loss: 0.0011, Accuracy: 9259/10000 (93%)\n",
      "\n",
      "MLP Train Epoch: 3 [0/60000 (0%)]\tLoss: 0.488825\n",
      "CNN Train Epoch: 3 [0/60000 (0%)]\tLoss: 0.521067\n",
      "MLP Train Epoch: 3 [25600/60000 (0%)]\tLoss: 0.417306\n",
      "CNN Train Epoch: 3 [25600/60000 (0%)]\tLoss: 0.395894\n",
      "MLP Train Epoch: 3 [51200/60000 (0%)]\tLoss: 0.399151\n",
      "CNN Train Epoch: 3 [51200/60000 (0%)]\tLoss: 0.301466\n",
      "MLP Test set: Average loss: 0.0007, Accuracy: 9008/10000 (90%)\n",
      "CNN Test set: Average loss: 0.0008, Accuracy: 9169/10000 (92%)\n",
      "\n",
      "MLP Train Epoch: 4 [0/60000 (0%)]\tLoss: 0.427423\n",
      "CNN Train Epoch: 4 [0/60000 (0%)]\tLoss: 0.305072\n",
      "MLP Train Epoch: 4 [25600/60000 (0%)]\tLoss: 0.393136\n",
      "CNN Train Epoch: 4 [25600/60000 (0%)]\tLoss: 0.259677\n",
      "MLP Train Epoch: 4 [51200/60000 (0%)]\tLoss: 0.373972\n",
      "CNN Train Epoch: 4 [51200/60000 (0%)]\tLoss: 0.229491\n",
      "MLP Test set: Average loss: 0.0007, Accuracy: 9095/10000 (91%)\n",
      "CNN Test set: Average loss: 0.0006, Accuracy: 9367/10000 (94%)\n",
      "\n",
      "MLP Train Epoch: 5 [0/60000 (0%)]\tLoss: 0.435560\n",
      "CNN Train Epoch: 5 [0/60000 (0%)]\tLoss: 0.207765\n",
      "MLP Train Epoch: 5 [25600/60000 (0%)]\tLoss: 0.388309\n",
      "CNN Train Epoch: 5 [25600/60000 (0%)]\tLoss: 0.189833\n",
      "MLP Train Epoch: 5 [51200/60000 (0%)]\tLoss: 0.348551\n",
      "CNN Train Epoch: 5 [51200/60000 (0%)]\tLoss: 0.161015\n",
      "MLP Test set: Average loss: 0.0006, Accuracy: 9140/10000 (91%)\n",
      "CNN Test set: Average loss: 0.0009, Accuracy: 8674/10000 (87%)\n",
      "\n",
      "MLP Train Epoch: 6 [0/60000 (0%)]\tLoss: 0.394155\n",
      "CNN Train Epoch: 6 [0/60000 (0%)]\tLoss: 0.166804\n",
      "MLP Train Epoch: 6 [25600/60000 (0%)]\tLoss: 0.348747\n",
      "CNN Train Epoch: 6 [25600/60000 (0%)]\tLoss: 0.150236\n",
      "MLP Train Epoch: 6 [51200/60000 (0%)]\tLoss: 0.311701\n",
      "CNN Train Epoch: 6 [51200/60000 (0%)]\tLoss: 0.126921\n",
      "MLP Test set: Average loss: 0.0006, Accuracy: 9199/10000 (92%)\n",
      "CNN Test set: Average loss: 0.0005, Accuracy: 9279/10000 (93%)\n",
      "\n",
      "MLP Train Epoch: 7 [0/60000 (0%)]\tLoss: 0.360247\n",
      "CNN Train Epoch: 7 [0/60000 (0%)]\tLoss: 0.149539\n",
      "MLP Train Epoch: 7 [25600/60000 (0%)]\tLoss: 0.342182\n",
      "CNN Train Epoch: 7 [25600/60000 (0%)]\tLoss: 0.131498\n",
      "MLP Train Epoch: 7 [51200/60000 (0%)]\tLoss: 0.302501\n",
      "CNN Train Epoch: 7 [51200/60000 (0%)]\tLoss: 0.131019\n",
      "MLP Test set: Average loss: 0.0005, Accuracy: 9251/10000 (93%)\n",
      "CNN Test set: Average loss: 0.0004, Accuracy: 9534/10000 (95%)\n",
      "\n",
      "MLP Train Epoch: 8 [0/60000 (0%)]\tLoss: 0.318884\n",
      "CNN Train Epoch: 8 [0/60000 (0%)]\tLoss: 0.121618\n",
      "MLP Train Epoch: 8 [25600/60000 (0%)]\tLoss: 0.325381\n",
      "CNN Train Epoch: 8 [25600/60000 (0%)]\tLoss: 0.124943\n",
      "MLP Train Epoch: 8 [51200/60000 (0%)]\tLoss: 0.229180\n",
      "CNN Train Epoch: 8 [51200/60000 (0%)]\tLoss: 0.088780\n",
      "MLP Test set: Average loss: 0.0005, Accuracy: 9289/10000 (93%)\n",
      "CNN Test set: Average loss: 0.0004, Accuracy: 9491/10000 (95%)\n",
      "\n",
      "MLP Train Epoch: 9 [0/60000 (0%)]\tLoss: 0.328516\n",
      "CNN Train Epoch: 9 [0/60000 (0%)]\tLoss: 0.098865\n",
      "MLP Train Epoch: 9 [25600/60000 (0%)]\tLoss: 0.311546\n",
      "CNN Train Epoch: 9 [25600/60000 (0%)]\tLoss: 0.101088\n",
      "MLP Train Epoch: 9 [51200/60000 (0%)]\tLoss: 0.268305\n",
      "CNN Train Epoch: 9 [51200/60000 (0%)]\tLoss: 0.092606\n",
      "MLP Test set: Average loss: 0.0005, Accuracy: 9320/10000 (93%)\n",
      "CNN Test set: Average loss: 0.0003, Accuracy: 9683/10000 (97%)\n",
      "\n"
     ]
    }
   ],
   "source": [
    "import PIL.Image as Image\n",
    "# transform = transforms.ToTensor()\n",
    "transform = transforms.Compose([\n",
    "            transforms.RandomRotation(degrees=(30, -30), fill=(0,), resample=Image.BICUBIC, expand=False),\n",
    "            transforms.ToTensor()\n",
    "            ])\n",
    "\n",
    "dataset_train = datasets.MNIST('./dataset', train=True, download=False, transform=transform)\n",
    "dataset_test = datasets.MNIST('./dataset', train=False, download=False, transform= transforms.ToTensor())\n",
    "dataloader_train = torch.utils.data.DataLoader(dataset_train, batch_size=512)\n",
    "dataloader_test = torch.utils.data.DataLoader(dataset_test, batch_size=512)\n",
    "\n",
    "model_mlp = MLP().to(device)\n",
    "model_cnn = ConvNet().to(device)\n",
    "loss = torch.nn.CrossEntropyLoss().to(device)\n",
    "optimizer_cnn = optim.SGD(model_cnn.parameters(), lr=0.01, momentum=0.9)\n",
    "optimizer_mlp = optim.SGD(model_mlp.parameters(), lr=0.01, momentum=0.9)\n",
    "plt_loss_mlp,plt_loss_cnn=[],[]\n",
    "plt_acc_mlp,plt_acc_cnn=[],[]\n",
    "\n",
    "for epoch in range(10):\n",
    "    # train\n",
    "    model_cnn.train()\n",
    "    model_mlp.train()\n",
    "    for batch_idx, (data, target) in enumerate(dataloader_train):\n",
    "        data, target = data.to(device), target.to(device)\n",
    "        # MLP\n",
    "        optimizer_mlp.zero_grad()\n",
    "        output_mlp = model_mlp(data)\n",
    "        loss_mlp=loss(output_mlp,target)        \n",
    "        loss_mlp.backward()\n",
    "        optimizer_mlp.step()\n",
    "        # CNN\n",
    "        model_cnn.zero_grad()\n",
    "        output_cnn = model_cnn(data)\n",
    "        loss_cnn=loss(output_cnn,target)\n",
    "        loss_cnn.backward()\n",
    "        optimizer_cnn.step()\n",
    "        \n",
    "        if batch_idx % 50 ==0 :\n",
    "            print('MLP Train Epoch: {} [{}/{} ({:.0f}%)]\\tLoss: {:.6f}'.format(\n",
    "            epoch, batch_idx * len(data), len(dataloader_train.dataset),\n",
    "            100. * batch_idx / len(dataset_train), loss_mlp.item()))\n",
    "            print('CNN Train Epoch: {} [{}/{} ({:.0f}%)]\\tLoss: {:.6f}'.format(\n",
    "            epoch, batch_idx * len(data), len(dataloader_train.dataset),\n",
    "            100. * batch_idx / len(dataset_train), loss_cnn.item()))\n",
    "            \n",
    "            \n",
    "    # Test\n",
    "    model_cnn.eval()\n",
    "    model_mlp.eval()\n",
    "    test_loss_mlp,  test_loss_cnn= 0, 0\n",
    "    correct_mlp, correct_cnn = 0, 0\n",
    "    with torch.no_grad():\n",
    "        for data, target in dataloader_test:\n",
    "            data, target = data.to(device), target.to(device)\n",
    "            \n",
    "             # MLP\n",
    "            output_mlp = model_mlp(data)\n",
    "            test_loss_mlp += loss(output_mlp, target)\n",
    "            pred_mlp = output_mlp.argmax(dim=1, keepdim=True)  # get the index of the max log-probability\n",
    "            correct_mlp += pred_mlp.eq(target.view_as(pred_mlp)).sum().item()\n",
    "            \n",
    "            # CNN\n",
    "            output_cnn = model_cnn(data)\n",
    "            test_loss_cnn += loss(output_cnn, target)\n",
    "            pred_cnn = output_cnn.argmax(dim=1, keepdim=True)  # get the index of the max log-probability\n",
    "            correct_cnn += pred_cnn.eq(target.view_as(pred_cnn)).sum().item()\n",
    "            \n",
    "    \n",
    "    test_loss_mlp /= len(dataloader_test.dataset)\n",
    "    test_loss_cnn /= len(dataloader_test.dataset)\n",
    "    print('MLP Test set: Average loss: {:.4f}, Accuracy: {}/{} ({:.0f}%)'.format(\n",
    "        test_loss_mlp, correct_mlp, len(dataloader_test.dataset),\n",
    "        100. * correct_mlp / len(dataloader_test.dataset)))\n",
    "    print('CNN Test set: Average loss: {:.4f}, Accuracy: {}/{} ({:.0f}%)\\n'.format(\n",
    "        test_loss_cnn, correct_cnn, len(dataloader_test.dataset),\n",
    "        100. * correct_cnn / len(dataloader_test.dataset)))\n",
    "    plt_loss_mlp.append(test_loss_mlp)    \n",
    "    plt_loss_cnn.append(test_loss_cnn)\n",
    "    plt_acc_mlp.append(correct_mlp / len(dataloader_test.dataset))    \n",
    "    plt_acc_cnn.append(correct_cnn / len(dataloader_test.dataset))"
   ]
  },
  {
   "cell_type": "code",
   "execution_count": 15,
   "id": "given-third",
   "metadata": {},
   "outputs": [
    {
     "data": {
      "image/png": "[encoded data removed]",
      "text/plain": [
       "<Figure size 432x288 with 2 Axes>"
      ]
     },
     "metadata": {
      "needs_background": "light"
     },
     "output_type": "display_data"
    }
   ],
   "source": [
    "import warnings\n",
    "warnings.filterwarnings(\"ignore\")\n",
    "import matplotlib.pyplot as plt\n",
    "plt.figure\n",
    "plt.subplot(1,2,1)\n",
    "plt.plot(plt_loss_mlp)\n",
    "plt.plot(plt_loss_cnn,'r')\n",
    "plt.legend(['MLP','CNN'])\n",
    "plt.title('cross entropy loss')\n",
    "plt.subplot(1,2,2)\n",
    "plt.plot(np.array(plt_acc_mlp)*100)\n",
    "plt.plot(np.array(plt_acc_cnn)*100,'r')\n",
    "plt.legend(['MLP','CNN'])\n",
    "plt.title('acc')\n",
    "plt.show()"
   ]
  },
  {
   "cell_type": "markdown",
   "id": "dramatic-milton",
   "metadata": {},
   "source": [
    "----------------\n",
    "<font size=4>以上就是用pytorch訓練分類模型的方法</font>\n"
   ]
  },
  {
   "cell_type": "markdown",
   "id": "featured-population",
   "metadata": {},
   "source": [
    "# 我們將所有的程式碼整合成一串\n",
    "步驟0. 是否使用CUDA <br>\n",
    "步驟1. data loader處理 <br>\n",
    "步驟2. 模型宣告 <br>\n",
    "步驟3. loss function宣告 <br>\n",
    "步驟4. optimator宣告 <br>\n",
    "步驟5. 模型開始訓練 <br>"
   ]
  },
  {
   "cell_type": "code",
   "execution_count": 1,
   "id": "optimum-denmark",
   "metadata": {},
   "outputs": [
    {
     "name": "stdout",
     "output_type": "stream",
     "text": [
      "MLP[epoch: 1/20], Average loss (Train):0.0028, Average loss(Test): 0.0012, Accuracy: 8569/10000 (86%)\n",
      "MLP[epoch: 2/20], Average loss (Train):0.0013, Average loss(Test): 0.0009, Accuracy: 8825/10000 (88%)\n",
      "MLP[epoch: 3/20], Average loss (Train):0.0011, Average loss(Test): 0.0008, Accuracy: 8921/10000 (89%)\n",
      "MLP[epoch: 4/20], Average loss (Train):0.0010, Average loss(Test): 0.0007, Accuracy: 9000/10000 (90%)\n",
      "MLP[epoch: 5/20], Average loss (Train):0.0009, Average loss(Test): 0.0006, Accuracy: 9083/10000 (91%)\n",
      "MLP[epoch: 6/20], Average loss (Train):0.0008, Average loss(Test): 0.0006, Accuracy: 9138/10000 (91%)\n",
      "MLP[epoch: 7/20], Average loss (Train):0.0008, Average loss(Test): 0.0006, Accuracy: 9213/10000 (92%)\n",
      "MLP[epoch: 8/20], Average loss (Train):0.0007, Average loss(Test): 0.0005, Accuracy: 9255/10000 (93%)\n",
      "MLP[epoch: 9/20], Average loss (Train):0.0007, Average loss(Test): 0.0005, Accuracy: 9297/10000 (93%)\n",
      "MLP[epoch: 10/20], Average loss (Train):0.0007, Average loss(Test): 0.0005, Accuracy: 9324/10000 (93%)\n",
      "MLP[epoch: 11/20], Average loss (Train):0.0006, Average loss(Test): 0.0004, Accuracy: 9347/10000 (93%)\n",
      "MLP[epoch: 12/20], Average loss (Train):0.0006, Average loss(Test): 0.0004, Accuracy: 9389/10000 (94%)\n",
      "MLP[epoch: 13/20], Average loss (Train):0.0006, Average loss(Test): 0.0004, Accuracy: 9424/10000 (94%)\n",
      "MLP[epoch: 14/20], Average loss (Train):0.0005, Average loss(Test): 0.0004, Accuracy: 9444/10000 (94%)\n",
      "MLP[epoch: 15/20], Average loss (Train):0.0005, Average loss(Test): 0.0004, Accuracy: 9479/10000 (95%)\n",
      "MLP[epoch: 16/20], Average loss (Train):0.0005, Average loss(Test): 0.0004, Accuracy: 9492/10000 (95%)\n",
      "MLP[epoch: 17/20], Average loss (Train):0.0005, Average loss(Test): 0.0003, Accuracy: 9513/10000 (95%)\n",
      "MLP[epoch: 18/20], Average loss (Train):0.0005, Average loss(Test): 0.0003, Accuracy: 9542/10000 (95%)\n",
      "MLP[epoch: 19/20], Average loss (Train):0.0004, Average loss(Test): 0.0003, Accuracy: 9550/10000 (96%)\n",
      "MLP[epoch: 20/20], Average loss (Train):0.0004, Average loss(Test): 0.0003, Accuracy: 9564/10000 (96%)\n"
     ]
    }
   ],
   "source": [
    "import warnings\n",
    "warnings.filterwarnings(\"ignore\")\n",
    "import matplotlib.pyplot as plt\n",
    "from torchvision import datasets, transforms\n",
    "import PIL.Image as Image\n",
    "import torch.nn as nn\n",
    "import torch.nn.functional as F\n",
    "import torch\n",
    "from torch import optim\n",
    "import numpy as np\n",
    "\n",
    "# 步驟0. 是否使用CUDA \n",
    "use_cuda = 1\n",
    "device = torch.device(\"cuda\" if (torch.cuda.is_available() & use_cuda) else \"cpu\")\n",
    "\n",
    "# 步驟1. data loader處理 \n",
    "transform = transforms.Compose([\n",
    "            transforms.RandomRotation(degrees=(-30, 30), fill=(0,), resample=Image.BICUBIC, expand=False),\n",
    "            transforms.ToTensor()\n",
    "            ])\n",
    "dataset_train = datasets.MNIST('./dataset', train=True, download=False, transform=transform)\n",
    "dataset_test = datasets.MNIST('./dataset', train=False, download=False, transform= transforms.ToTensor())\n",
    "dataloader_train = torch.utils.data.DataLoader(dataset_train, batch_size=512)\n",
    "dataloader_test = torch.utils.data.DataLoader(dataset_test, batch_size=512)\n",
    "\n",
    "\n",
    "# 步驟2. 模型宣告\n",
    "class MLP(nn.Module):\n",
    "    def __init__(self):\n",
    "        super(MLP,self).__init__()\n",
    "        # linear layer (784 -> hidden_1)\n",
    "        self.fc1 = nn.Linear(28*28, 512)\n",
    "        # linear layer (n_hidden -> 10)\n",
    "        self.fc2 = nn.Linear(512,10)\n",
    "        # dropout prevents overfitting of data\n",
    "        self.droput = nn.Dropout(0.2)\n",
    "        \n",
    "    def forward(self,x):\n",
    "        # flatten image input\n",
    "        x = x.view(-1,28*28)\n",
    "        # add hidden layer, with relu activation function\n",
    "        x = F.relu(self.fc1(x))\n",
    "        # add dropout layer\n",
    "        x = self.droput(x)\n",
    "         # add hidden layer, with relu activation function\n",
    "        x = self.fc2(x)\n",
    "        return x\n",
    "# initialize the MLP\n",
    "model_mlp = MLP().to(device)\n",
    "\n",
    "# 步驟3. loss function宣告\n",
    "loss = torch.nn.CrossEntropyLoss().to(device)\n",
    "\n",
    "# 步驟4. optimator宣告\n",
    "optimizer_mlp = optim.SGD(model_mlp.parameters(), lr=0.01, momentum=0.9)\n",
    "\n",
    "# 步驟5. 模型開始訓練\n",
    "total_epoch=20\n",
    "plt_loss_train,plt_loss_test, plt_acc_test=[],[],[]\n",
    "for epoch in range(total_epoch):\n",
    "    # train\n",
    "    model_mlp.train()\n",
    "    train_loss_mlp = 0\n",
    "    for batch_idx, (data, target) in enumerate(dataloader_train):\n",
    "        data, target = data.to(device), target.to(device)\n",
    "        # MLP\n",
    "        optimizer_mlp.zero_grad()\n",
    "        output_mlp = model_mlp(data)\n",
    "        loss_mlp = loss(output_mlp,target)  \n",
    "        train_loss_mlp += loss_mlp\n",
    "        loss_mlp.backward()\n",
    "        optimizer_mlp.step()\n",
    "    train_loss_mlp /= len(dataloader_train.dataset)\n",
    "    plt_loss_train.append(train_loss_mlp)\n",
    "    # Test\n",
    "    model_mlp.eval()\n",
    "    test_loss_mlp = 0\n",
    "    correct_mlp = 0\n",
    "    with torch.no_grad():\n",
    "        for data, target in dataloader_test:\n",
    "            data, target = data.to(device), target.to(device)\n",
    "             # MLP\n",
    "            output_mlp = model_mlp(data)\n",
    "            test_loss_mlp += loss(output_mlp, target)\n",
    "            pred_mlp = output_mlp.argmax(dim=1, keepdim=True)  # get the index of the max log-probability\n",
    "            correct_mlp += pred_mlp.eq(target.view_as(pred_mlp)).sum().item()   \n",
    "    test_loss_mlp /= len(dataloader_test.dataset)\n",
    "    plt_loss_test.append(test_loss_mlp)    \n",
    "    plt_acc_test.append(correct_mlp/len(dataloader_test.dataset)) \n",
    "    \n",
    "    print('MLP[epoch: {}/{}], Average loss (Train):{:.4f}, Average loss(Test): {:.4f}, Accuracy: {}/{} ({:.0f}%)'.format(\n",
    "        epoch+1, total_epoch, \n",
    "        train_loss_mlp, test_loss_mlp, \n",
    "        correct_mlp, len(dataloader_test.dataset),\n",
    "        100. * correct_mlp / len(dataloader_test.dataset)))\n",
    "    \n",
    "    \n"
   ]
  },
  {
   "cell_type": "code",
   "execution_count": 9,
   "id": "impaired-flavor",
   "metadata": {},
   "outputs": [
    {
     "data": {
      "image/png": "[encoded data removed]",
      "text/plain": [
       "<Figure size 432x288 with 2 Axes>"
      ]
     },
     "metadata": {
      "needs_background": "light"
     },
     "output_type": "display_data"
    }
   ],
   "source": [
    "\n",
    "plt.figure\n",
    "plt.subplot(1,2,1)\n",
    "plt.plot(plt_loss_train,'b')\n",
    "plt.plot(plt_loss_test,'r')\n",
    "plt.legend(['Train','Test'])\n",
    "plt.title('cross entropy loss')\n",
    "plt.subplot(1,2,2)\n",
    "plt.plot(np.array(plt_acc_mlp)*100)\n",
    "plt.title('acc')\n",
    "plt.show()"
   ]
  },
  {
   "cell_type": "code",
   "execution_count": null,
   "id": "ignored-brunswick",
   "metadata": {},
   "outputs": [],
   "source": []
  }
 ],
 "metadata": {
  "kernelspec": {
   "display_name": "Python 3",
   "language": "python",
   "name": "python3"
  },
  "language_info": {
   "codemirror_mode": {
    "name": "ipython",
    "version": 3
   },
   "file_extension": ".py",
   "mimetype": "text/x-python",
   "name": "python",
   "nbconvert_exporter": "python",
   "pygments_lexer": "ipython3",
   "version": "3.7.9"
  }
 },
 "nbformat": 4,
 "nbformat_minor": 5
}

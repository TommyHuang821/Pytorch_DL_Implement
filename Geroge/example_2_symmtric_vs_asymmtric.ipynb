{
 "cells": [
  {
   "cell_type": "markdown",
   "metadata": {},
   "source": [
    "# Symmtric v.s. Asymmtric\n",
    "<br />\n",
    "<font size=3>\n",
    "示範兩種量化方式，分別為對稱量化(symmtric)與非對稱量化(asymmtric)，此篇用8-bit量化舉例。<br />\n",
    "symmtric在8-bit量化後的數據範圍為-128~127，asymmtric則是0~255\n",
    "<font>"
   ]
  },
  {
   "cell_type": "code",
   "execution_count": 8,
   "metadata": {},
   "outputs": [],
   "source": [
    "import numpy as np\n",
    "import matplotlib.pyplot as plt\n",
    "\n",
    "# 產生-1~10且間格0.2的數據\n",
    "x = np.arange(-1, 10, 0.2, dtype=float)\n",
    "# 量化bit數為8\n",
    "bit = 8"
   ]
  },
  {
   "cell_type": "markdown",
   "metadata": {},
   "source": [
    "## Symmtric<br />\n",
    "<font size=3>此範例將數據量化到8-bit的資料型態，對稱(symmetric)量化的方式為:<br /><br />\n",
    "1. 觀察資料範圍\n",
    "$$ range_{x} = max(|{x}|) $$\n",
    "2. 計算scale\n",
    "$$ \\alpha _x = \\frac {2^{n-1}-1}{max(|{x}|)} \\quad $$\n",
    "3. 量化$x$\n",
    "$$ x_q = round(x \\times \\alpha _x) $$\n",
    "</font>"
   ]
  },
  {
   "cell_type": "code",
   "execution_count": 9,
   "metadata": {},
   "outputs": [
    {
     "data": {
      "image/png": "[encoded data removed]",
      "text/plain": [
       "<Figure size 432x288 with 1 Axes>"
      ]
     },
     "metadata": {
      "needs_background": "light"
     },
     "output_type": "display_data"
    }
   ],
   "source": [
    "# 觀察數據範圍\n",
    "max_abs_x = np.max(np.abs(x))\n",
    "# 計算Scale\n",
    "scale = (2**(bit - 1) - 1) / max_abs_x\n",
    "# 量化\n",
    "xq = np.round(x * scale, 0)\n",
    "\n",
    "# 畫圖\n",
    "fig, ax = plt.subplots()\n",
    "ax.plot(x.reshape(-1), xq.reshape(-1),'o', marker='.')\n",
    "ax.axhline(y=127, xmin=0, xmax=10, color='r')\n",
    "ax.axhline(y=-127, xmin=0, xmax=10, color='r')\n",
    "ax.set_xlabel(\"floating point\")\n",
    "ax.set_ylabel(\"quantized\")\n",
    "ax.set_title(\"Symmtric mode\")\n",
    "ax.axhline(y=0, color='k')\n",
    "ax.axvline(x=0, color='k')\n",
    "ax.set_ylim([-150, 150])\n",
    "ax.grid(True)\n",
    "plt.show()"
   ]
  },
  {
   "cell_type": "markdown",
   "metadata": {},
   "source": [
    "## Asymmtric<br />\n",
    "<font size=3>\n",
    "此範例將數據量化到8-bit的資料型態，非對稱(asymmetric)量化的方式為:<br /><br />\n",
    "1. 觀察資料範圍\n",
    "$$ range_{x} = max(x) - min(x) $$\n",
    "2. 計算scale\n",
    "$$ \\alpha _x = \\frac {2^{n-1}-1}{max(x) - min(x)} \\quad $$\n",
    "3. 計算ZeroPoint\n",
    "$$ zp_x = round(min(x) \\times \\alpha _x) $$\n",
    "4. 量化$x$\n",
    "$$ x_q = round(x \\times \\alpha _x) - zp_x $$\n",
    "</font>"
   ]
  },
  {
   "cell_type": "code",
   "execution_count": 10,
   "metadata": {},
   "outputs": [
    {
     "data": {
      "image/png": "[encoded data removed]",
      "text/plain": [
       "<Figure size 432x288 with 1 Axes>"
      ]
     },
     "metadata": {
      "needs_background": "light"
     },
     "output_type": "display_data"
    }
   ],
   "source": [
    "# 觀察數據範圍\n",
    "max_x = np.max(x)\n",
    "min_x = np.min(x)\n",
    "# 計算Scale\n",
    "scale = (2**(bit) - 1) / (max_x - min_x)\n",
    "# 計算zero-point\n",
    "zp = np.round(min_x * scale, 0)\n",
    "# 量化\n",
    "xq = np.round(x * scale, 0) - zp\n",
    "\n",
    "# 畫圖\n",
    "fig, ax = plt.subplots()\n",
    "ax.plot(x.reshape(-1), xq.reshape(-1),'o', marker='.')\n",
    "ax.axhline(y=0, xmin=0, xmax=10, color='r')\n",
    "ax.axhline(y=255, xmin=0, xmax=10, color='r')\n",
    "ax.set_xlabel(\"floating point\")\n",
    "ax.set_ylabel(\"quantized\")\n",
    "ax.set_title(\"Asymmtric mode\")\n",
    "ax.axhline(y=0, color='k')\n",
    "ax.axvline(x=0, color='k')\n",
    "ax.set_ylim([0, 255])\n",
    "ax.grid(True)\n",
    "plt.show()\n"
   ]
  },
  {
   "cell_type": "code",
   "execution_count": null,
   "metadata": {},
   "outputs": [],
   "source": []
  },
  {
   "cell_type": "code",
   "execution_count": null,
   "metadata": {},
   "outputs": [],
   "source": []
  }
 ],
 "metadata": {
  "kernelspec": {
   "display_name": "Python 3",
   "language": "python",
   "name": "python3"
  },
  "language_info": {
   "codemirror_mode": {
    "name": "ipython",
    "version": 3
   },
   "file_extension": ".py",
   "mimetype": "text/x-python",
   "name": "python",
   "nbconvert_exporter": "python",
   "pygments_lexer": "ipython3",
   "version": "3.6.8"
  }
 },
 "nbformat": 4,
 "nbformat_minor": 4
}
